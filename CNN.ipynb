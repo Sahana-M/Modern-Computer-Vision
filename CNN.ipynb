{
  "nbformat": 4,
  "nbformat_minor": 0,
  "metadata": {
    "colab": {
      "name": "CNN.ipynb",
      "provenance": [],
      "authorship_tag": "ABX9TyOK65x2l9VYTuQ1kFkrrpuZ"
    },
    "kernelspec": {
      "name": "python3",
      "display_name": "Python 3"
    },
    "language_info": {
      "name": "python"
    },
    "accelerator": "GPU"
  },
  "cells": [
    {
      "cell_type": "code",
      "execution_count": 2,
      "metadata": {
        "id": "vnADadfwFtKT"
      },
      "outputs": [],
      "source": [
        "from tensorflow.keras.datasets import mnist\n",
        "from tensorflow.keras.utils import to_categorical\n",
        "from tensorflow.keras.models import Sequential\n",
        "from tensorflow.keras.layers import Dense, Dropout, Flatten\n",
        "from tensorflow.keras.layers import MaxPool2D, Conv2D\n",
        "from tensorflow.keras import backend as K\n",
        "from tensorflow.keras.optimizers import SGD"
      ]
    },
    {
      "cell_type": "code",
      "source": [
        "(xtrain, ytrain), (xtest, ytest) = mnist.load_data()"
      ],
      "metadata": {
        "colab": {
          "base_uri": "https://localhost:8080/"
        },
        "id": "nD--PzD4F3pz",
        "outputId": "43dc7f76-362c-44f9-9067-4c4cbf3363f5"
      },
      "execution_count": 3,
      "outputs": [
        {
          "output_type": "stream",
          "name": "stdout",
          "text": [
            "Downloading data from https://storage.googleapis.com/tensorflow/tf-keras-datasets/mnist.npz\n",
            "11493376/11490434 [==============================] - 0s 0us/step\n",
            "11501568/11490434 [==============================] - 0s 0us/step\n"
          ]
        }
      ]
    },
    {
      "cell_type": "code",
      "source": [
        "img_rows = xtrain[0].shape[0]\n",
        "img_cols = xtrain[0].shape[1]\n",
        "\n",
        "\n",
        "xtrain = xtrain.reshape(xtrain.shape[0], img_rows, img_cols, 1)\n",
        "xtest = xtest.reshape(xtest.shape[0], img_rows, img_cols, 1)\n",
        "\n",
        "input_shape = (img_rows, img_cols, 1)\n",
        "\n",
        "xtrain = xtrain.astype('float32')\n",
        "xtest = xtest.astype('float32')\n",
        "\n",
        "xtrain /= 255.0\n",
        "xtest /= 255.0\n",
        "\n",
        "print(\"xtrain full shape : \", xtrain.shape)\n",
        "print(\"xtrain shape : \", xtrain.shape[0])\n",
        "print(\"xtest shape : \", xtest.shape[0])"
      ],
      "metadata": {
        "colab": {
          "base_uri": "https://localhost:8080/"
        },
        "id": "QH4rwTCeF-G9",
        "outputId": "73cc285e-ebbf-4c31-ac97-e0a0eb326e21"
      },
      "execution_count": 4,
      "outputs": [
        {
          "output_type": "stream",
          "name": "stdout",
          "text": [
            "xtrain full shape :  (60000, 28, 28, 1)\n",
            "xtrain shape :  60000\n",
            "xtest shape :  10000\n"
          ]
        }
      ]
    },
    {
      "cell_type": "code",
      "source": [
        "ytrain = to_categorical(ytrain)\n",
        "ytest = to_categorical(ytest)\n",
        "\n",
        "\n",
        "print(\"Number of classes : \", ytrain.shape[1])"
      ],
      "metadata": {
        "colab": {
          "base_uri": "https://localhost:8080/"
        },
        "id": "ztII1YTdGFLb",
        "outputId": "d16161d6-9bd0-4e51-d77c-dd8d210fa84a"
      },
      "execution_count": 5,
      "outputs": [
        {
          "output_type": "stream",
          "name": "stdout",
          "text": [
            "Number of classes :  10\n"
          ]
        }
      ]
    },
    {
      "cell_type": "code",
      "source": [
        "num_classes = ytrain.shape[1]"
      ],
      "metadata": {
        "id": "H_44c-TAIfFk"
      },
      "execution_count": 6,
      "outputs": []
    },
    {
      "cell_type": "code",
      "source": [
        "model = Sequential()\n",
        "\n",
        "model.add(Conv2D(32, kernel_size=(3,3), activation =\"relu\" , input_shape = input_shape))\n",
        "\n",
        "model.add(Conv2D(64, (3,3), activation=\"relu\"))\n",
        "\n",
        "model.add(MaxPool2D(pool_size = (2,2)))\n",
        "\n",
        "model.add(Flatten())\n",
        "\n",
        "model.add(Dense(128, activation=\"relu\"))\n",
        "\n",
        "model.add(Dense(num_classes, activation=\"softmax\"))\n",
        "\n",
        "model.compile(loss ='categorical_crossentropy',\n",
        "              optimizer = SGD(0.001),\n",
        "              metrics = ['accuracy'])\n",
        "\n",
        "print(model.summary())"
      ],
      "metadata": {
        "colab": {
          "base_uri": "https://localhost:8080/"
        },
        "id": "dYppp2gFHJLC",
        "outputId": "2bf76929-2053-44b6-f23c-f06cb92be59c"
      },
      "execution_count": 7,
      "outputs": [
        {
          "output_type": "stream",
          "name": "stdout",
          "text": [
            "Model: \"sequential\"\n",
            "_________________________________________________________________\n",
            " Layer (type)                Output Shape              Param #   \n",
            "=================================================================\n",
            " conv2d (Conv2D)             (None, 26, 26, 32)        320       \n",
            "                                                                 \n",
            " conv2d_1 (Conv2D)           (None, 24, 24, 64)        18496     \n",
            "                                                                 \n",
            " max_pooling2d (MaxPooling2D  (None, 12, 12, 64)       0         \n",
            " )                                                               \n",
            "                                                                 \n",
            " flatten (Flatten)           (None, 9216)              0         \n",
            "                                                                 \n",
            " dense (Dense)               (None, 128)               1179776   \n",
            "                                                                 \n",
            " dense_1 (Dense)             (None, 10)                1290      \n",
            "                                                                 \n",
            "=================================================================\n",
            "Total params: 1,199,882\n",
            "Trainable params: 1,199,882\n",
            "Non-trainable params: 0\n",
            "_________________________________________________________________\n",
            "None\n"
          ]
        }
      ]
    },
    {
      "cell_type": "code",
      "source": [
        "batch_size = 128\n",
        "epochs = 25\n",
        "\n",
        "history = model.fit(xtrain,\n",
        "                    ytrain, \n",
        "                    batch_size = batch_size,\n",
        "                    epochs = epochs,\n",
        "                    verbose = 1,\n",
        "                    validation_data = (xtest, ytest))\n",
        "\n",
        "score = model.evaluate(xtest, ytest, verbose=0)\n",
        "print(\"Test accuracy : \", score[0])\n",
        "print(\"Test loss : \", score[1])\n",
        "\n"
      ],
      "metadata": {
        "colab": {
          "base_uri": "https://localhost:8080/"
        },
        "id": "uPv4i5FhI6U8",
        "outputId": "be490702-64ac-41e4-872e-e255f5239737"
      },
      "execution_count": 8,
      "outputs": [
        {
          "output_type": "stream",
          "name": "stdout",
          "text": [
            "Epoch 1/25\n",
            "469/469 [==============================] - 16s 16ms/step - loss: 2.1770 - accuracy: 0.3525 - val_loss: 1.9796 - val_accuracy: 0.5599\n",
            "Epoch 2/25\n",
            "469/469 [==============================] - 7s 15ms/step - loss: 1.4488 - accuracy: 0.7036 - val_loss: 0.8423 - val_accuracy: 0.8223\n",
            "Epoch 3/25\n",
            "469/469 [==============================] - 7s 15ms/step - loss: 0.6281 - accuracy: 0.8449 - val_loss: 0.4752 - val_accuracy: 0.8773\n",
            "Epoch 4/25\n",
            "469/469 [==============================] - 7s 14ms/step - loss: 0.4450 - accuracy: 0.8776 - val_loss: 0.3884 - val_accuracy: 0.8934\n",
            "Epoch 5/25\n",
            "469/469 [==============================] - 7s 15ms/step - loss: 0.3855 - accuracy: 0.8902 - val_loss: 0.3498 - val_accuracy: 0.9022\n",
            "Epoch 6/25\n",
            "469/469 [==============================] - 7s 15ms/step - loss: 0.3541 - accuracy: 0.8981 - val_loss: 0.3264 - val_accuracy: 0.9066\n",
            "Epoch 7/25\n",
            "469/469 [==============================] - 7s 15ms/step - loss: 0.3331 - accuracy: 0.9035 - val_loss: 0.3099 - val_accuracy: 0.9116\n",
            "Epoch 8/25\n",
            "469/469 [==============================] - 7s 15ms/step - loss: 0.3172 - accuracy: 0.9082 - val_loss: 0.2966 - val_accuracy: 0.9160\n",
            "Epoch 9/25\n",
            "469/469 [==============================] - 7s 15ms/step - loss: 0.3041 - accuracy: 0.9115 - val_loss: 0.2843 - val_accuracy: 0.9176\n",
            "Epoch 10/25\n",
            "469/469 [==============================] - 7s 14ms/step - loss: 0.2926 - accuracy: 0.9149 - val_loss: 0.2735 - val_accuracy: 0.9208\n",
            "Epoch 11/25\n",
            "469/469 [==============================] - 7s 15ms/step - loss: 0.2819 - accuracy: 0.9183 - val_loss: 0.2652 - val_accuracy: 0.9234\n",
            "Epoch 12/25\n",
            "469/469 [==============================] - 7s 15ms/step - loss: 0.2724 - accuracy: 0.9208 - val_loss: 0.2555 - val_accuracy: 0.9261\n",
            "Epoch 13/25\n",
            "469/469 [==============================] - 7s 14ms/step - loss: 0.2633 - accuracy: 0.9235 - val_loss: 0.2478 - val_accuracy: 0.9295\n",
            "Epoch 14/25\n",
            "469/469 [==============================] - 7s 15ms/step - loss: 0.2550 - accuracy: 0.9261 - val_loss: 0.2403 - val_accuracy: 0.9312\n",
            "Epoch 15/25\n",
            "469/469 [==============================] - 7s 14ms/step - loss: 0.2471 - accuracy: 0.9283 - val_loss: 0.2332 - val_accuracy: 0.9336\n",
            "Epoch 16/25\n",
            "469/469 [==============================] - 7s 15ms/step - loss: 0.2398 - accuracy: 0.9300 - val_loss: 0.2295 - val_accuracy: 0.9340\n",
            "Epoch 17/25\n",
            "469/469 [==============================] - 7s 15ms/step - loss: 0.2326 - accuracy: 0.9326 - val_loss: 0.2220 - val_accuracy: 0.9361\n",
            "Epoch 18/25\n",
            "469/469 [==============================] - 7s 15ms/step - loss: 0.2261 - accuracy: 0.9349 - val_loss: 0.2148 - val_accuracy: 0.9386\n",
            "Epoch 19/25\n",
            "469/469 [==============================] - 7s 14ms/step - loss: 0.2199 - accuracy: 0.9360 - val_loss: 0.2112 - val_accuracy: 0.9388\n",
            "Epoch 20/25\n",
            "469/469 [==============================] - 7s 14ms/step - loss: 0.2141 - accuracy: 0.9377 - val_loss: 0.2061 - val_accuracy: 0.9410\n",
            "Epoch 21/25\n",
            "469/469 [==============================] - 7s 15ms/step - loss: 0.2085 - accuracy: 0.9394 - val_loss: 0.2028 - val_accuracy: 0.9396\n",
            "Epoch 22/25\n",
            "469/469 [==============================] - 7s 15ms/step - loss: 0.2031 - accuracy: 0.9403 - val_loss: 0.1939 - val_accuracy: 0.9430\n",
            "Epoch 23/25\n",
            "469/469 [==============================] - 7s 15ms/step - loss: 0.1978 - accuracy: 0.9423 - val_loss: 0.1912 - val_accuracy: 0.9428\n",
            "Epoch 24/25\n",
            "469/469 [==============================] - 7s 14ms/step - loss: 0.1928 - accuracy: 0.9435 - val_loss: 0.1874 - val_accuracy: 0.9450\n",
            "Epoch 25/25\n",
            "469/469 [==============================] - 7s 14ms/step - loss: 0.1882 - accuracy: 0.9444 - val_loss: 0.1812 - val_accuracy: 0.9467\n",
            "Test accuracy :  0.18117116391658783\n",
            "Test loss :  0.9466999769210815\n"
          ]
        }
      ]
    },
    {
      "cell_type": "code",
      "source": [
        "import matplotlib.pyplot as plt\n",
        "\n",
        "history_dict = history.history\n",
        "\n",
        "loss_values = history_dict['loss']\n",
        "val_loss_values = history_dict['val_loss']\n",
        "\n",
        "epochs = range(1, len(loss_values) + 1)\n",
        "\n",
        "line1 = plt.plot(epochs, val_loss_values, label=\"validation loss\")\n",
        "line2 = plt.plot(epochs, loss_values, label = \"training loss\")\n",
        "plt.setp(line1, linewidth=2.0, marker=\"+\", markersize=10.0)\n",
        "plt.setp(line2, linewidth=2.0, marker=\"4\", markersize=10.0)\n",
        "plt.xlabel(\"Epochs\")\n",
        "plt.ylabel(\"Loss\")\n",
        "plt.grid(True)\n",
        "plt.legend()\n",
        "plt.show()"
      ],
      "metadata": {
        "colab": {
          "base_uri": "https://localhost:8080/",
          "height": 281
        },
        "id": "53mzU2BvKkKR",
        "outputId": "a1f78f0f-d4a8-4c61-a54b-7da61e09f71a"
      },
      "execution_count": 10,
      "outputs": [
        {
          "output_type": "display_data",
          "data": {
            "text/plain": [
              "<Figure size 432x288 with 1 Axes>"
            ],
            "image/png": "[encoded data removed]"
          },
          "metadata": {
            "needs_background": "light"
          }
        }
      ]
    },
    {
      "cell_type": "code",
      "source": [
        ""
      ],
      "metadata": {
        "id": "pWH8WiffOP_V"
      },
      "execution_count": null,
      "outputs": []
    }
  ]
}